{
 "cells": [
  {
   "cell_type": "markdown",
   "id": "ffcdfd82-3c87-4d34-be67-e9b121764190",
   "metadata": {},
   "source": [
    "# Data Encoding"
   ]
  },
  {
   "cell_type": "markdown",
   "id": "301adc9c-7b5e-4ae8-9400-0f0d49a49de2",
   "metadata": {},
   "source": [
    " Data Encoding helps us to convert a Categorical feature into a suitable Numerical feature to create a good model\n",
    " Types of Encoding\n",
    " \n",
    " 1. OHE (One Hot Encoding)\n",
    " 2. Ordinal and Label Encoding\n",
    " 3. Target Guided Ordingal Encoding"
   ]
  },
  {
   "cell_type": "markdown",
   "id": "559b6f1c-64a2-4773-91f2-47f606b16c25",
   "metadata": {},
   "source": [
    "## OHE (One Hot Encoding)"
   ]
  },
  {
   "cell_type": "markdown",
   "id": "c58c727a-7db4-451b-b16f-b78b02bc1597",
   "metadata": {},
   "source": [
    "Disadvantage : \n",
    "    1. sparse matrix (0's and 1's) - eventually a overfitting\n",
    "    2. if we have 1000  features then number of columns will be increased by OHE"
   ]
  },
  {
   "cell_type": "code",
   "execution_count": 1,
   "id": "bccc5a1a-133a-4acc-b846-f6d89c995f9e",
   "metadata": {},
   "outputs": [],
   "source": [
    "import pandas as pd\n",
    "from sklearn.preprocessing import OneHotEncoder"
   ]
  },
  {
   "cell_type": "code",
   "execution_count": 4,
   "id": "01ebfe1b-bbd6-45f3-b9f0-0afd8ea211e2",
   "metadata": {},
   "outputs": [],
   "source": [
    "df = pd.DataFrame({'color':['red','blue','green','red','blue']})"
   ]
  },
  {
   "cell_type": "code",
   "execution_count": 5,
   "id": "788256aa-e01a-49f6-897e-f7eb3823248d",
   "metadata": {},
   "outputs": [
    {
     "data": {
      "text/html": [
       "<div>\n",
       "<style scoped>\n",
       "    .dataframe tbody tr th:only-of-type {\n",
       "        vertical-align: middle;\n",
       "    }\n",
       "\n",
       "    .dataframe tbody tr th {\n",
       "        vertical-align: top;\n",
       "    }\n",
       "\n",
       "    .dataframe thead th {\n",
       "        text-align: right;\n",
       "    }\n",
       "</style>\n",
       "<table border=\"1\" class=\"dataframe\">\n",
       "  <thead>\n",
       "    <tr style=\"text-align: right;\">\n",
       "      <th></th>\n",
       "      <th>color</th>\n",
       "    </tr>\n",
       "  </thead>\n",
       "  <tbody>\n",
       "    <tr>\n",
       "      <th>0</th>\n",
       "      <td>red</td>\n",
       "    </tr>\n",
       "    <tr>\n",
       "      <th>1</th>\n",
       "      <td>blue</td>\n",
       "    </tr>\n",
       "    <tr>\n",
       "      <th>2</th>\n",
       "      <td>green</td>\n",
       "    </tr>\n",
       "    <tr>\n",
       "      <th>3</th>\n",
       "      <td>red</td>\n",
       "    </tr>\n",
       "    <tr>\n",
       "      <th>4</th>\n",
       "      <td>blue</td>\n",
       "    </tr>\n",
       "  </tbody>\n",
       "</table>\n",
       "</div>"
      ],
      "text/plain": [
       "   color\n",
       "0    red\n",
       "1   blue\n",
       "2  green\n",
       "3    red\n",
       "4   blue"
      ]
     },
     "execution_count": 5,
     "metadata": {},
     "output_type": "execute_result"
    }
   ],
   "source": [
    "df"
   ]
  },
  {
   "cell_type": "code",
   "execution_count": 15,
   "id": "13b0b7e8-b6e7-49b7-9949-9e16caa46750",
   "metadata": {},
   "outputs": [],
   "source": [
    "# create an instance of One Hot Encoder\n",
    "encoder = OneHotEncoder()"
   ]
  },
  {
   "cell_type": "code",
   "execution_count": 16,
   "id": "22a3959d-dcde-4161-8b16-5c5a82ddeebb",
   "metadata": {},
   "outputs": [],
   "source": [
    "encoded = encoder.fit_transform(df[['color']])"
   ]
  },
  {
   "cell_type": "code",
   "execution_count": 18,
   "id": "f8cf2a99-681f-4e86-a53a-ecd1d53dc983",
   "metadata": {},
   "outputs": [],
   "source": [
    "encoded_df = pd.DataFrame(encoded.toarray(),columns=encoder.get_feature_names_out())"
   ]
  },
  {
   "cell_type": "code",
   "execution_count": 19,
   "id": "56edd2ef-49e8-4d9a-85d1-87ca7766fb8b",
   "metadata": {},
   "outputs": [
    {
     "data": {
      "text/html": [
       "<div>\n",
       "<style scoped>\n",
       "    .dataframe tbody tr th:only-of-type {\n",
       "        vertical-align: middle;\n",
       "    }\n",
       "\n",
       "    .dataframe tbody tr th {\n",
       "        vertical-align: top;\n",
       "    }\n",
       "\n",
       "    .dataframe thead th {\n",
       "        text-align: right;\n",
       "    }\n",
       "</style>\n",
       "<table border=\"1\" class=\"dataframe\">\n",
       "  <thead>\n",
       "    <tr style=\"text-align: right;\">\n",
       "      <th></th>\n",
       "      <th>color</th>\n",
       "      <th>color_blue</th>\n",
       "      <th>color_green</th>\n",
       "      <th>color_red</th>\n",
       "    </tr>\n",
       "  </thead>\n",
       "  <tbody>\n",
       "    <tr>\n",
       "      <th>0</th>\n",
       "      <td>red</td>\n",
       "      <td>0.0</td>\n",
       "      <td>0.0</td>\n",
       "      <td>1.0</td>\n",
       "    </tr>\n",
       "    <tr>\n",
       "      <th>1</th>\n",
       "      <td>blue</td>\n",
       "      <td>1.0</td>\n",
       "      <td>0.0</td>\n",
       "      <td>0.0</td>\n",
       "    </tr>\n",
       "    <tr>\n",
       "      <th>2</th>\n",
       "      <td>green</td>\n",
       "      <td>0.0</td>\n",
       "      <td>1.0</td>\n",
       "      <td>0.0</td>\n",
       "    </tr>\n",
       "    <tr>\n",
       "      <th>3</th>\n",
       "      <td>red</td>\n",
       "      <td>0.0</td>\n",
       "      <td>0.0</td>\n",
       "      <td>1.0</td>\n",
       "    </tr>\n",
       "    <tr>\n",
       "      <th>4</th>\n",
       "      <td>blue</td>\n",
       "      <td>1.0</td>\n",
       "      <td>0.0</td>\n",
       "      <td>0.0</td>\n",
       "    </tr>\n",
       "  </tbody>\n",
       "</table>\n",
       "</div>"
      ],
      "text/plain": [
       "   color  color_blue  color_green  color_red\n",
       "0    red         0.0          0.0        1.0\n",
       "1   blue         1.0          0.0        0.0\n",
       "2  green         0.0          1.0        0.0\n",
       "3    red         0.0          0.0        1.0\n",
       "4   blue         1.0          0.0        0.0"
      ]
     },
     "execution_count": 19,
     "metadata": {},
     "output_type": "execute_result"
    }
   ],
   "source": [
    "pd.concat([df, encoded_df],axis=1)"
   ]
  },
  {
   "cell_type": "markdown",
   "id": "d1a7d119-e9da-4982-bcb3-811a33950cda",
   "metadata": {},
   "source": [
    "# Ordinal and Label Encoding"
   ]
  },
  {
   "cell_type": "markdown",
   "id": "a8d03c6d-c6ee-40d9-be4c-d39c22fdc3e6",
   "metadata": {},
   "source": [
    "### Label encoding - auto encoding "
   ]
  },
  {
   "cell_type": "code",
   "execution_count": 20,
   "id": "250b4de4-658a-4c80-9fa3-c2c41b2d5805",
   "metadata": {},
   "outputs": [],
   "source": [
    "import pandas as pd"
   ]
  },
  {
   "cell_type": "code",
   "execution_count": 21,
   "id": "2ef4d0e1-347d-4d4a-9930-9e790a39df22",
   "metadata": {},
   "outputs": [],
   "source": [
    "from sklearn.preprocessing import LabelEncoder"
   ]
  },
  {
   "cell_type": "code",
   "execution_count": 23,
   "id": "91240e5f-1639-4303-8c5d-a6fe0f28182f",
   "metadata": {},
   "outputs": [],
   "source": [
    "# create a DateFrame with a categorical variable\n",
    "df = pd.DataFrame({'color':['red','blue','green','red','blue']})"
   ]
  },
  {
   "cell_type": "code",
   "execution_count": 24,
   "id": "e19a8432-bacc-4d83-9b03-bf0d87ac0d2a",
   "metadata": {},
   "outputs": [
    {
     "data": {
      "text/html": [
       "<div>\n",
       "<style scoped>\n",
       "    .dataframe tbody tr th:only-of-type {\n",
       "        vertical-align: middle;\n",
       "    }\n",
       "\n",
       "    .dataframe tbody tr th {\n",
       "        vertical-align: top;\n",
       "    }\n",
       "\n",
       "    .dataframe thead th {\n",
       "        text-align: right;\n",
       "    }\n",
       "</style>\n",
       "<table border=\"1\" class=\"dataframe\">\n",
       "  <thead>\n",
       "    <tr style=\"text-align: right;\">\n",
       "      <th></th>\n",
       "      <th>color</th>\n",
       "    </tr>\n",
       "  </thead>\n",
       "  <tbody>\n",
       "    <tr>\n",
       "      <th>0</th>\n",
       "      <td>red</td>\n",
       "    </tr>\n",
       "    <tr>\n",
       "      <th>1</th>\n",
       "      <td>blue</td>\n",
       "    </tr>\n",
       "    <tr>\n",
       "      <th>2</th>\n",
       "      <td>green</td>\n",
       "    </tr>\n",
       "    <tr>\n",
       "      <th>3</th>\n",
       "      <td>red</td>\n",
       "    </tr>\n",
       "    <tr>\n",
       "      <th>4</th>\n",
       "      <td>blue</td>\n",
       "    </tr>\n",
       "  </tbody>\n",
       "</table>\n",
       "</div>"
      ],
      "text/plain": [
       "   color\n",
       "0    red\n",
       "1   blue\n",
       "2  green\n",
       "3    red\n",
       "4   blue"
      ]
     },
     "execution_count": 24,
     "metadata": {},
     "output_type": "execute_result"
    }
   ],
   "source": [
    "df"
   ]
  },
  {
   "cell_type": "code",
   "execution_count": 25,
   "id": "522a5472-3c05-4ae2-bb98-da2fafa01db9",
   "metadata": {},
   "outputs": [],
   "source": [
    "## Create an instance of label encoder\n",
    "encoder = LabelEncoder()"
   ]
  },
  {
   "cell_type": "code",
   "execution_count": 28,
   "id": "a89546fb-7d1f-4820-8085-0d241e975e19",
   "metadata": {},
   "outputs": [],
   "source": [
    "encoded = encoder.fit_transform(df['color'])"
   ]
  },
  {
   "cell_type": "code",
   "execution_count": 29,
   "id": "630dc2bc-befb-4e2b-89d8-a47416bb74e0",
   "metadata": {},
   "outputs": [
    {
     "data": {
      "text/plain": [
       "array([2, 0, 1, 2, 0])"
      ]
     },
     "execution_count": 29,
     "metadata": {},
     "output_type": "execute_result"
    }
   ],
   "source": [
    "encoded"
   ]
  },
  {
   "cell_type": "markdown",
   "id": "a38e2500-5d9e-4726-884a-71c8eda9f2ed",
   "metadata": {},
   "source": [
    "### here the encoder automatically assigned the rank according to the alphabet i.e, Blue - 0, green - 1, red - 2\n",
    "Hence it may happen that ML model will assume red is greater tha blue and green"
   ]
  },
  {
   "cell_type": "markdown",
   "id": "f4ef6699-5f07-4dcc-b893-354cc4901974",
   "metadata": {},
   "source": [
    "## Ordinal Encoding\n",
    "We can encode rank wise using Ordinal Encoding"
   ]
  },
  {
   "cell_type": "code",
   "execution_count": 30,
   "id": "a8e8622a-beec-4ba0-873e-31f07181cc24",
   "metadata": {},
   "outputs": [],
   "source": [
    "from sklearn.preprocessing import OrdinalEncoder"
   ]
  },
  {
   "cell_type": "code",
   "execution_count": 38,
   "id": "6f798eb6-159d-475c-8866-ea2f9955a5b2",
   "metadata": {},
   "outputs": [],
   "source": [
    "## create a dataframe\n",
    "df = pd.DataFrame({'size':['small','medium','large','medium','small','large']})"
   ]
  },
  {
   "cell_type": "code",
   "execution_count": 39,
   "id": "ad1d5a50-5df0-4ef3-957c-903efabdf8cc",
   "metadata": {},
   "outputs": [],
   "source": [
    "encoder = OrdinalEncoder(categories = [['small','medium','large']])"
   ]
  },
  {
   "cell_type": "code",
   "execution_count": 40,
   "id": "9d6dd4d8-5651-4816-8879-49a3c8dc89af",
   "metadata": {},
   "outputs": [],
   "source": [
    "encoded = encoder.fit_transform(df[['size']])"
   ]
  },
  {
   "cell_type": "code",
   "execution_count": 41,
   "id": "a31cab69-f30f-4c2a-b61d-9d1aef2d050b",
   "metadata": {},
   "outputs": [
    {
     "data": {
      "text/plain": [
       "array([[0.],\n",
       "       [1.],\n",
       "       [2.],\n",
       "       [1.],\n",
       "       [0.],\n",
       "       [2.]])"
      ]
     },
     "execution_count": 41,
     "metadata": {},
     "output_type": "execute_result"
    }
   ],
   "source": [
    "encoded"
   ]
  },
  {
   "cell_type": "markdown",
   "id": "f6acd8c9-6000-4509-aadd-de323d2ccabe",
   "metadata": {},
   "source": [
    "Here small is ranked as 0, medium as 1 and large as 2"
   ]
  },
  {
   "cell_type": "markdown",
   "id": "61544898-d94a-4fee-a32b-63c6e7b7951f",
   "metadata": {},
   "source": [
    "# Target Guided Ordinal Encoding"
   ]
  },
  {
   "cell_type": "code",
   "execution_count": null,
   "id": "7a4d692c-cf41-4b8a-8914-55b4bea3d1d5",
   "metadata": {},
   "outputs": [],
   "source": []
  }
 ],
 "metadata": {
  "kernelspec": {
   "display_name": "Python 3 (ipykernel)",
   "language": "python",
   "name": "python3"
  },
  "language_info": {
   "codemirror_mode": {
    "name": "ipython",
    "version": 3
   },
   "file_extension": ".py",
   "mimetype": "text/x-python",
   "name": "python",
   "nbconvert_exporter": "python",
   "pygments_lexer": "ipython3",
   "version": "3.10.8"
  }
 },
 "nbformat": 4,
 "nbformat_minor": 5
}
