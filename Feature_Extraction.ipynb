{
 "cells": [
  {
   "cell_type": "markdown",
   "id": "6b825f51-23f9-407c-95d1-b40a6ee0b4f5",
   "metadata": {},
   "source": [
    "#  Feature Extraction"
   ]
  },
  {
   "cell_type": "markdown",
   "id": "d27683b4-4a1d-4178-afd6-29c79e80cb51",
   "metadata": {},
   "source": [
    "### Feature Extraction is a process of selecting and extracting the most important features from the raw data"
   ]
  },
  {
   "cell_type": "markdown",
   "id": "beb29dcb-884b-42a5-b4ca-f3dcca93330c",
   "metadata": {},
   "source": [
    "## Feature Extraction includes :"
   ]
  },
  {
   "cell_type": "markdown",
   "id": "4d62efe0-4668-4ddb-b672-2f0d2d1df74b",
   "metadata": {},
   "source": [
    "### 1. Feature Scaling\n",
    "### Technique to normalize or standadize the data which includes :\n",
    "1. Normalisation, standardization\n",
    "2. Unit Vector\n",
    "3. Min Max Scaler"
   ]
  },
  {
   "cell_type": "markdown",
   "id": "c65f6cc6-5d0d-468a-bd33-c124d1f9529f",
   "metadata": {},
   "source": [
    "### 2. Feature Selection :\n",
    "Is a technique to pick most important features from a data"
   ]
  },
  {
   "cell_type": "markdown",
   "id": "344ff843-1523-4dd0-9a7a-404279a304fb",
   "metadata": {},
   "source": [
    "### 3. PCA (Pricipal Component Analysis) : is a method for unsupervise ML"
   ]
  },
  {
   "cell_type": "code",
   "execution_count": null,
   "id": "a7bb8ea3-4db8-48c8-ad2d-c6b5e7760bdc",
   "metadata": {},
   "outputs": [],
   "source": []
  }
 ],
 "metadata": {
  "kernelspec": {
   "display_name": "Python 3 (ipykernel)",
   "language": "python",
   "name": "python3"
  },
  "language_info": {
   "codemirror_mode": {
    "name": "ipython",
    "version": 3
   },
   "file_extension": ".py",
   "mimetype": "text/x-python",
   "name": "python",
   "nbconvert_exporter": "python",
   "pygments_lexer": "ipython3",
   "version": "3.10.8"
  }
 },
 "nbformat": 4,
 "nbformat_minor": 5
}
